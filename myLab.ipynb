{
 "cells": [
  {
   "cell_type": "markdown",
   "id": "299ff721-74f9-4738-b602-c4e4ebde048a",
   "metadata": {},
   "source": [
    "Title: My Lab notebook for this Jupyter course."
   ]
  },
  {
   "cell_type": "markdown",
   "id": "fd3bd723-8adf-4e34-aac4-80882fb84d5c",
   "metadata": {},
   "source": [
    "Introduction: \n",
    "This is Lab exercise for using Jupter notebook for Data Science, AI, and other tasks "
   ]
  },
  {
   "cell_type": "markdown",
   "id": "1f681942-e7d0-4978-9a63-ed593300469d",
   "metadata": {},
   "source": [
    "List of Data Science Languages:\n",
    "1. Python\n",
    "2. R\n",
    "3. Java\n",
    "4. Scala\n",
    "5. SQL\n",
    "6. Julia"
   ]
  },
  {
   "cell_type": "markdown",
   "id": "9f32d9f1-7814-41f5-a044-f67d98e1de0a",
   "metadata": {},
   "source": [
    "List of Data Science Libraries :\n",
    "1. scikit-learn\n",
    "2. TensorFlow\n",
    "3. PyTorch\n",
    "4. ggplot2\n",
    "5. NumPy\n",
    "6. Dplyr\n",
    "7. SQL\n",
    "8. Seaborn\n"
   ]
  },
  {
   "cell_type": "markdown",
   "id": "1121f24f-05fe-40a0-b6e3-4e6b49b942d3",
   "metadata": {},
   "source": [
    "List of Data Science Tools :\n",
    "1. Apache Hadoop\n",
    "2. Apache Spark\n",
    "3. Cloud Pak for Data:\n",
    "4. Google Colab\n",
    "5. Jupyter Notebook"
   ]
  },
  {
   "cell_type": "code",
   "execution_count": null,
   "id": "8fb3e235-8489-41ca-80df-334c283dfa66",
   "metadata": {},
   "outputs": [],
   "source": [
    "Arithmetic expression examples:\n",
    "\n",
    "A = 1\n",
    "B = 2\n",
    "C = A * B"
   ]
  },
  {
   "cell_type": "code",
   "execution_count": 10,
   "id": "90fa12d3-edba-4747-9e90-a045d09b3696",
   "metadata": {},
   "outputs": [
    {
     "data": {
      "text/plain": [
       "2"
      ]
     },
     "execution_count": 10,
     "metadata": {},
     "output_type": "execute_result"
    }
   ],
   "source": [
    "A = 1\n",
    "B = 2\n",
    "C = A * B\n",
    "C"
   ]
  },
  {
   "cell_type": "code",
   "execution_count": 12,
   "id": "4e33f89a-fa75-4408-8c6e-5c24fb0c58cd",
   "metadata": {},
   "outputs": [
    {
     "data": {
      "text/plain": [
       "30"
      ]
     },
     "execution_count": 12,
     "metadata": {},
     "output_type": "execute_result"
    }
   ],
   "source": [
    "A = 10\n",
    "B = 20\n",
    "C = A + B\n",
    "C"
   ]
  },
  {
   "cell_type": "code",
   "execution_count": 14,
   "id": "a5fe18a3-0780-49af-be55-b8283cdcfd5a",
   "metadata": {},
   "outputs": [
    {
     "name": "stdout",
     "output_type": "stream",
     "text": [
      "120 minutes is equal to 2.0 hours.\n"
     ]
    }
   ],
   "source": [
    "def convert_minutes_to_hours(minutes):\n",
    "    hours = minutes / 60\n",
    "    return hours\n",
    "\n",
    "# Example usage\n",
    "minutes_input = 120\n",
    "hours_output = convert_minutes_to_hours(minutes_input)\n",
    "print(f\"{minutes_input} minutes is equal to {hours_output} hours.\")"
   ]
  },
  {
   "cell_type": "markdown",
   "id": "241045e4-0cc3-45b0-9664-8f70a144cd47",
   "metadata": {},
   "source": [
    "Objectives:\n",
    "1. Setup Jupyter Notebook\n",
    "2. Document Title, Libraries, and other used for the task\n",
    "3. Devlope and Execute python code within the Jupyter Notebook"
   ]
  },
  {
   "cell_type": "markdown",
   "id": "4f7cb485-e131-470e-ae75-69e12d1a6fb9",
   "metadata": {},
   "source": [
    "Author: Richard Lam\n",
    "Date: 2024-09-30"
   ]
  },
  {
   "cell_type": "code",
   "execution_count": null,
   "id": "6ca78c56-5f42-41c3-8842-9d302008a3f1",
   "metadata": {},
   "outputs": [],
   "source": []
  }
 ],
 "metadata": {
  "kernelspec": {
   "display_name": "Python 3 (ipykernel)",
   "language": "python",
   "name": "python3"
  },
  "language_info": {
   "codemirror_mode": {
    "name": "ipython",
    "version": 3
   },
   "file_extension": ".py",
   "mimetype": "text/x-python",
   "name": "python",
   "nbconvert_exporter": "python",
   "pygments_lexer": "ipython3",
   "version": "3.12.4"
  }
 },
 "nbformat": 4,
 "nbformat_minor": 5
}
